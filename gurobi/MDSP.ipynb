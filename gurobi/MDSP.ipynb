{
 "cells": [
  {
   "attachments": {},
   "cell_type": "markdown",
   "metadata": {},
   "source": [
    "# MDSP - Exact algorithm for finding the minimum dominating set in graphs"
   ]
  },
  {
   "attachments": {},
   "cell_type": "markdown",
   "metadata": {},
   "source": [
    "$$\n",
    "\\begin{aligned}\n",
    "\\text{min}\\quad & \\sum_{i=1}^{n} x_{i} \\\n",
    "\\text{s.t.}\\quad & \\sum_{i=1}^{n} a_{ij} x_{i} \\geq 1 \\quad \\forall j = 1, \\ldots, n \\\n",
    "& x_{i} \\in {0,1} \\quad \\forall i = 1, \\ldots, n \\\n",
    "\\end{aligned}\n",
    "$$"
   ]
  },
  {
   "attachments": {},
   "cell_type": "markdown",
   "metadata": {},
   "source": [
    "# Importación de librerias"
   ]
  },
  {
   "cell_type": "code",
   "execution_count": 1,
   "metadata": {},
   "outputs": [],
   "source": [
    "from gurobipy import *\n",
    "import numpy as np"
   ]
  },
  {
   "attachments": {},
   "cell_type": "markdown",
   "metadata": {},
   "source": [
    "# Creación del modelo"
   ]
  },
  {
   "cell_type": "code",
   "execution_count": 2,
   "metadata": {},
   "outputs": [
    {
     "name": "stdout",
     "output_type": "stream",
     "text": [
      "Restricted license - for non-production use only - expires 2024-10-28\n"
     ]
    }
   ],
   "source": [
    "model = Model(\"MDSP\")"
   ]
  },
  {
   "attachments": {},
   "cell_type": "markdown",
   "metadata": {},
   "source": [
    "# Creación de los objetos"
   ]
  },
  {
   "cell_type": "code",
   "execution_count": 3,
   "metadata": {},
   "outputs": [],
   "source": [
    "adj_matrix = np.loadtxt('../src/main/java/com/dominatingset/files/rnd_graph_500_50_1.txt', dtype=int)\n",
    "n = adj_matrix.shape[0]"
   ]
  },
  {
   "attachments": {},
   "cell_type": "markdown",
   "metadata": {},
   "source": [
    "# Definición de variables"
   ]
  },
  {
   "cell_type": "code",
   "execution_count": 4,
   "metadata": {},
   "outputs": [],
   "source": [
    "# Define the variables\n",
    "x = model.addVars(n, vtype=GRB.BINARY, name=\"x\")\n",
    "\n",
    "# Define the objective function\n",
    "model.setObjective(quicksum(x[i] for i in range(n)), GRB.MINIMIZE)\n",
    "\n",
    "# Define the constraints\n",
    "for i in range(n):\n",
    "    model.addConstr(x[i] + quicksum(x[j] for j in range(n) if adj_matrix[i][j]) >= 1)"
   ]
  },
  {
   "attachments": {},
   "cell_type": "markdown",
   "metadata": {},
   "source": [
    "# Resolución"
   ]
  },
  {
   "cell_type": "code",
   "execution_count": 5,
   "metadata": {},
   "outputs": [
    {
     "name": "stdout",
     "output_type": "stream",
     "text": [
      "Gurobi Optimizer version 10.0.1 build v10.0.1rc0 (mac64[x86])\n",
      "\n",
      "CPU model: Intel(R) Core(TM) i7-4770HQ CPU @ 2.20GHz\n",
      "Thread count: 4 physical cores, 8 logical processors, using up to 8 threads\n",
      "\n",
      "Optimize a model with 500 rows, 500 columns and 125250 nonzeros\n",
      "Model fingerprint: 0x1879620d\n",
      "Variable types: 0 continuous, 500 integer (500 binary)\n",
      "Coefficient statistics:\n",
      "  Matrix range     [1e+00, 1e+00]\n",
      "  Objective range  [1e+00, 1e+00]\n",
      "  Bounds range     [1e+00, 1e+00]\n",
      "  RHS range        [1e+00, 1e+00]\n",
      "Found heuristic solution: objective 7.0000000\n",
      "Presolve time: 0.65s\n",
      "Presolved: 500 rows, 500 columns, 125250 nonzeros\n",
      "Variable types: 0 continuous, 500 integer (500 binary)\n",
      "\n",
      "Root relaxation: objective 1.993502e+00, 1773 iterations, 0.58 seconds (0.83 work units)\n",
      "\n",
      "    Nodes    |    Current Node    |     Objective Bounds      |     Work\n",
      " Expl Unexpl |  Obj  Depth IntInf | Incumbent    BestBd   Gap | It/Node Time\n",
      "\n",
      "     0     0    1.99350    0  262    7.00000    1.99350  71.5%     -    1s\n",
      "H    0     0                       6.0000000    1.99350  66.8%     -    2s\n",
      "     0     0    1.99548    0  257    6.00000    1.99548  66.7%     -    4s\n",
      "H    0     0                       5.0000000    1.99548  60.1%     -    6s\n",
      "     0     0    1.99997    0  252    5.00000    1.99997  60.0%     -    6s\n",
      "\n",
      "Interrupt request received\n",
      "\n",
      "Cutting planes:\n",
      "  MIR: 3\n",
      "\n",
      "Explored 1 nodes (2057 simplex iterations) in 6.85 seconds (5.67 work units)\n",
      "Thread count was 8 (of 8 available processors)\n",
      "\n",
      "Solution count 3: 5 6 7 \n",
      "\n",
      "Solve interrupted\n",
      "Best objective 5.000000000000e+00, best bound 3.000000000000e+00, gap 40.0000%\n",
      "Selected nodes: [126, 138, 314, 327, 349]\n"
     ]
    }
   ],
   "source": [
    "# Optimize the model\n",
    "model.optimize()\n",
    "\n",
    "# Print the results\n",
    "selected_nodes = [i for i in range(n) if x[i].x > 0.5]\n",
    "print(\"Selected nodes:\", selected_nodes)"
   ]
  },
  {
   "attachments": {},
   "cell_type": "markdown",
   "metadata": {},
   "source": [
    "# Exportando el modelo"
   ]
  },
  {
   "cell_type": "code",
   "execution_count": 6,
   "metadata": {},
   "outputs": [],
   "source": [
    "model.write(\"models/rnd_graph_500_50_1.lp\")"
   ]
  },
  {
   "attachments": {},
   "cell_type": "markdown",
   "metadata": {},
   "source": [
    "# Imprimir todos los valores"
   ]
  },
  {
   "cell_type": "code",
   "execution_count": 8,
   "metadata": {},
   "outputs": [
    {
     "name": "stdout",
     "output_type": "stream",
     "text": [
      "Función objetivo: 5\n",
      "x[126] 1\n",
      "x[138] 1\n",
      "x[314] 1\n",
      "x[327] 1\n",
      "x[349] 1\n"
     ]
    }
   ],
   "source": [
    "print('Función objetivo: %g' % model.ObjVal)\n",
    "\n",
    "for var in model.getVars():\n",
    "    if var.x > 0: \n",
    "        print('%s %g' % (var.varName, var.x))"
   ]
  }
 ],
 "metadata": {
  "kernelspec": {
   "display_name": "base",
   "language": "python",
   "name": "python3"
  },
  "language_info": {
   "codemirror_mode": {
    "name": "ipython",
    "version": 3
   },
   "file_extension": ".py",
   "mimetype": "text/x-python",
   "name": "python",
   "nbconvert_exporter": "python",
   "pygments_lexer": "ipython3",
   "version": "3.9.13"
  },
  "orig_nbformat": 4
 },
 "nbformat": 4,
 "nbformat_minor": 2
}
