{
 "cells": [
  {
   "attachments": {},
   "cell_type": "markdown",
   "metadata": {},
   "source": [
    "$$\n",
    "\\begin{aligned}\n",
    "\\text{min}\\quad & \\sum_{i=1}^{n} x_{i} \\\n",
    "\\text{s.t.}\\quad & \\sum_{i=1}^{n} a_{ij} x_{i} \\geq 1 \\quad \\forall j = 1, \\ldots, n \\\n",
    "& x_{i} \\in {0,1} \\quad \\forall i = 1, \\ldots, n \\\n",
    "\\end{aligned}\n",
    "$$"
   ]
  },
  {
   "cell_type": "code",
   "execution_count": 1,
   "metadata": {},
   "outputs": [],
   "source": [
    "import gurobipy as gp\n",
    "import numpy as np"
   ]
  },
  {
   "cell_type": "code",
   "execution_count": 2,
   "metadata": {},
   "outputs": [],
   "source": [
    "adj_matrix = np.loadtxt('../src/main/java/com/dominatingset/files/rnd_graph_500_50_1.txt', dtype=int)\n",
    "\n",
    "n = adj_matrix.shape[0]"
   ]
  }
 ],
 "metadata": {
  "kernelspec": {
   "display_name": "base",
   "language": "python",
   "name": "python3"
  },
  "language_info": {
   "codemirror_mode": {
    "name": "ipython",
    "version": 3
   },
   "file_extension": ".py",
   "mimetype": "text/x-python",
   "name": "python",
   "nbconvert_exporter": "python",
   "pygments_lexer": "ipython3",
   "version": "3.9.13"
  },
  "orig_nbformat": 4
 },
 "nbformat": 4,
 "nbformat_minor": 2
}
