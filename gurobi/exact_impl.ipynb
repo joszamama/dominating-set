{
 "cells": [
  {
   "attachments": {},
   "cell_type": "markdown",
   "metadata": {},
   "source": [
    "$$\n",
    "\\begin{aligned}\n",
    "\\text{min}\\quad & \\sum_{i=1}^{n} x_{i} \\\n",
    "\\text{s.t.}\\quad & \\sum_{i=1}^{n} a_{ij} x_{i} \\geq 1 \\quad \\forall j = 1, \\ldots, n \\\n",
    "& x_{i} \\in {0,1} \\quad \\forall i = 1, \\ldots, n \\\n",
    "\\end{aligned}\n",
    "$$"
   ]
  },
  {
   "cell_type": "code",
   "execution_count": 2,
   "metadata": {},
   "outputs": [],
   "source": [
    "import gurobipy as gp\n",
    "import numpy as np"
   ]
  },
  {
   "cell_type": "code",
   "execution_count": 11,
   "metadata": {},
   "outputs": [],
   "source": [
    "adj_matrix = np.loadtxt('../src/main/java/com/dominatingset/files/zachary.txt', dtype=int)"
   ]
  },
  {
   "cell_type": "code",
   "execution_count": 12,
   "metadata": {},
   "outputs": [
    {
     "name": "stdout",
     "output_type": "stream",
     "text": [
      "Gurobi Optimizer version 10.0.1 build v10.0.1rc0 (win64)\n",
      "\n",
      "CPU model: Intel(R) Core(TM) i7-10510U CPU @ 1.80GHz, instruction set [SSE2|AVX|AVX2]\n",
      "Thread count: 4 physical cores, 8 logical processors, using up to 8 threads\n",
      "\n",
      "Optimize a model with 0 rows, 0 columns and 0 nonzeros\n",
      "Model fingerprint: 0xf9715da1\n",
      "Coefficient statistics:\n",
      "  Matrix range     [0e+00, 0e+00]\n",
      "  Objective range  [0e+00, 0e+00]\n",
      "  Bounds range     [0e+00, 0e+00]\n",
      "  RHS range        [0e+00, 0e+00]\n",
      "Presolve time: 0.01s\n",
      "Presolve: All rows and columns removed\n",
      "Iteration    Objective       Primal Inf.    Dual Inf.      Time\n",
      "       0    0.0000000e+00   0.000000e+00   0.000000e+00      0s\n",
      "\n",
      "Solved in 0 iterations and 0.01 seconds (0.00 work units)\n",
      "Optimal objective  0.000000000e+00\n",
      "Optimization status: 2\n",
      "Minimum dominating set size:  0.0\n",
      "Selected nodes: \n",
      "x values: []\n"
     ]
    }
   ],
   "source": [
    "# Create a new model\n",
    "model = gp.Model()\n",
    "\n",
    "# Create variables\n",
    "x = model.addVars(n, vtype=gp.GRB.BINARY, name=\"x\")\n",
    "\n",
    "# Set objective function\n",
    "model.setObjective(gp.quicksum(x[i] for i in range(n)), gp.GRB.MINIMIZE)\n",
    "\n",
    "# Add constraints\n",
    "for j in range(n):\n",
    "    constr = gp.quicksum(adj_matrix[i][j]*x[i] for i in range(n)) >= 1\n",
    "    model.addConstr(constr)\n",
    "    print(f\"Constraint {j}: {constr.getValue()}\")\n",
    "\n",
    "# Optimize model\n",
    "model.optimize()\n",
    "\n",
    "# Print solution\n",
    "print(f\"Optimization status: {model.status}\")\n",
    "if model.status == gp.GRB.OPTIMAL:\n",
    "    print(\"Minimum dominating set size: \", model.objVal)\n",
    "    print(\"Selected nodes: \")\n",
    "    for i in range(n):\n",
    "        if x[i].x > 0.5:\n",
    "            print(i)\n",
    "else:\n",
    "    print(\"No solution found\")\n",
    "\n",
    "print(f\"x values: {[x[i].x for i in range(n)]}\")"
   ]
  },
  {
   "cell_type": "code",
   "execution_count": 13,
   "metadata": {},
   "outputs": [
    {
     "name": "stdout",
     "output_type": "stream",
     "text": [
      "Gurobi Optimizer version 10.0.1 build v10.0.1rc0 (win64)\n",
      "\n",
      "CPU model: Intel(R) Core(TM) i7-10510U CPU @ 1.80GHz, instruction set [SSE2|AVX|AVX2]\n",
      "Thread count: 4 physical cores, 8 logical processors, using up to 8 threads\n",
      "\n",
      "Optimize a model with 1 rows, 0 columns and 0 nonzeros\n",
      "Model fingerprint: 0x4c905e16\n",
      "Coefficient statistics:\n",
      "  Matrix range     [0e+00, 0e+00]\n",
      "  Objective range  [0e+00, 0e+00]\n",
      "  Bounds range     [0e+00, 0e+00]\n",
      "  RHS range        [1e+00, 1e+00]\n",
      "Presolve time: 0.01s\n",
      "\n",
      "Solved in 0 iterations and 0.01 seconds (0.00 work units)\n",
      "Infeasible model\n",
      "No solution found.\n"
     ]
    }
   ],
   "source": [
    "# Create a new model\n",
    "model = gp.Model()\n",
    "\n",
    "# Add binary decision variables x_i for each node i\n",
    "x = model.addVars(n, vtype=gp.GRB.BINARY, name=\"x\")\n",
    "\n",
    "# Set the objective function to maximize the number of nodes selected\n",
    "model.setObjective(gp.quicksum(x[i] for i in range(n)), gp.GRB.MAXIMIZE)\n",
    "\n",
    "# Add constraint to select at least one node\n",
    "model.addConstr(gp.quicksum(x[i] for i in range(n)) >= 1)\n",
    "\n",
    "# Add constraints to ensure that every node in the cover is adjacent to at least one selected node\n",
    "for i in range(n):\n",
    "    model.addConstr(gp.quicksum(x[j] for j in range(n) if adj_matrix[i][j] == 1) >= x[i])\n",
    "\n",
    "# Solve the model\n",
    "model.optimize()\n",
    "\n",
    "# Print the solution\n",
    "if model.status == gp.GRB.OPTIMAL:\n",
    "    selected_nodes = [i for i in range(n) if x[i].x > 0.5]\n",
    "    print(\"Selected nodes:\", selected_nodes)\n",
    "    print(\"Size of cover:\", len(selected_nodes))\n",
    "else:\n",
    "    print(\"No solution found.\")"
   ]
  }
 ],
 "metadata": {
  "kernelspec": {
   "display_name": "base",
   "language": "python",
   "name": "python3"
  },
  "language_info": {
   "codemirror_mode": {
    "name": "ipython",
    "version": 3
   },
   "file_extension": ".py",
   "mimetype": "text/x-python",
   "name": "python",
   "nbconvert_exporter": "python",
   "pygments_lexer": "ipython3",
   "version": "3.9.13"
  },
  "orig_nbformat": 4
 },
 "nbformat": 4,
 "nbformat_minor": 2
}
