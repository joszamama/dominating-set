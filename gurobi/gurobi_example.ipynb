{
  "cells": [
    {
      "cell_type": "markdown",
      "id": "7f7d69f9",
      "metadata": {
        "id": "7f7d69f9"
      },
      "source": [
        "Copyright © 2022 Gurobi Optimization, LLC\n",
        "\n",
        "# How Much Is Too Much? Avocado Pricing and Supply Using Mathematical Optimization\n",
        "\n",
        "A [Food Network article](https://www.foodnetwork.com/fn-dish/news/2018/3/avocado-unseats-banana-as-america-s-top-fruit-import-by-value) from March 2017 declared, \"Avocado unseats banana as America's top fruit import.\" This declaration is incomplete and debatable for reasons other than whether  avocado is a fruit. Avocados are expensive.\n",
        "\n",
        "As a supplier, setting an appropriate avocado price requires a delicate trade-off. \n",
        "Set it too high and you lose customers. Set it too low and you won't make a profit.\n",
        "Equipped with good data, the avocado pricing and supply problem is *ripe* with opportunities for demonstrating the power of optimization and data science.\n",
        "\n",
        "They say when life gives you avocados, make guacamole.\n",
        "Just like the perfect guacamole needs the right blend of onion, lemon and spices, finding an optimal avocado price needs the right blend of descriptive, predictive and prescriptive analytics.\n",
        "\n",
        "|<img src=\"https://github.com/Gurobi/modeling-examples/blob/master/price_optimization/avocado_image_grocery.jpeg?raw=1\" width=\"500\" align=\"center\">| \n",
        "|:--:|\n",
        "| <b>Avocados: a quintessential corner of a grocery store. Image Credits: [New York Post](https://nypost.com/2022/02/15/us-will-halt-mexico-avocado-imports-as-long-as-necessary/) </b>| \n",
        "\n",
        "\n",
        "**Goal**: Develop a data science pipeline for pricing and distribution of avocados to maximize revenue.\n",
        "\n",
        "This notebook walks through a decision-making pipeline that culminates in a mathematical optimization model.\n",
        "There are three stages: \n",
        "- First, understand the dataset and infer the relationships between categories such as the sales, price, region, and seasonal trends.\n",
        "- Second, build a prediction model that predicts the demand for avocados as a function of price, region, year and the seasonality.\n",
        "- Third, design an optimization problem that sets the optimal price and supply quantity to maximize the net revenue while incorporating costs for wastage and transportation.\n"
      ]
    },
    {
      "cell_type": "markdown",
      "id": "2e5dc427",
      "metadata": {
        "id": "2e5dc427"
      },
      "source": [
        "## Load the Packages and the Datasets\n",
        "\n",
        "We use real sales data provided by the [Hass Avocado Board](https://hassavocadoboard.com/) (HAB), whose aim is to \"make avocados America’s most popular fruit\". This dataset contains consolidated information on several years' worth of market prices and sales of avocados. \n",
        "\n",
        "We will now load the following packages for analyzing and visualizing the data."
      ]
    },
    {
      "cell_type": "code",
      "execution_count": 17,
      "id": "d0d518e0-8f9f-465e-a8da-3b66c1e3761e",
      "metadata": {
        "id": "d0d518e0-8f9f-465e-a8da-3b66c1e3761e"
      },
      "outputs": [],
      "source": [
        "from gurobipy import *"
      ]
    },
    {
      "cell_type": "code",
      "execution_count": 18,
      "id": "3024295a",
      "metadata": {
        "id": "3024295a"
      },
      "outputs": [],
      "source": [
        "import pandas as pd\n",
        "import warnings\n",
        "warnings.filterwarnings(\"ignore\")\n",
        "import matplotlib.pyplot as plt\n",
        "from sklearn import tree \n",
        "import seaborn as sns\n",
        "import sklearn \n",
        "import numpy as np  "
      ]
    },
    {
      "cell_type": "markdown",
      "id": "4537e1ae",
      "metadata": {
        "id": "4537e1ae"
      },
      "source": [
        "The dataset from HAB contains sales data for the years 2019-2022. This data is augmented by a previous download from HAB available on [Kaggle](https://www.kaggle.com/datasets/timmate/avocado-prices-2020) with sales for the years 2015-2018.\n",
        "\n",
        "Each row in the dataset is the weekly number of avocados sold and the weekly average price of an avocado categorized by region and type of avocado. There are two types of avocados: conventional and organic. In this notebook, we will only consider the conventional avocados.\n",
        "There are eight large regions, namely the Great Lakes, Midsouth, North East, Northern New England, South Central, South East, West and Plains.\n",
        "\n",
        "Now, load the data and store into a Pandas dataframe."
      ]
    },
    {
      "cell_type": "code",
      "execution_count": 19,
      "id": "d7ebd6bb",
      "metadata": {
        "id": "d7ebd6bb",
        "outputId": "11eeee6f-7da8-4747-a02b-84858720888f"
      },
      "outputs": [
        {
          "data": {
            "text/html": [
              "<div>\n",
              "<style scoped>\n",
              "    .dataframe tbody tr th:only-of-type {\n",
              "        vertical-align: middle;\n",
              "    }\n",
              "\n",
              "    .dataframe tbody tr th {\n",
              "        vertical-align: top;\n",
              "    }\n",
              "\n",
              "    .dataframe thead th {\n",
              "        text-align: right;\n",
              "    }\n",
              "</style>\n",
              "<table border=\"1\" class=\"dataframe\">\n",
              "  <thead>\n",
              "    <tr style=\"text-align: right;\">\n",
              "      <th></th>\n",
              "      <th>region</th>\n",
              "      <th>date</th>\n",
              "      <th>type</th>\n",
              "      <th>price</th>\n",
              "      <th>units_sold</th>\n",
              "    </tr>\n",
              "  </thead>\n",
              "  <tbody>\n",
              "    <tr>\n",
              "      <th>0</th>\n",
              "      <td>Great_Lakes</td>\n",
              "      <td>1/7/19 0:00</td>\n",
              "      <td>Conventional</td>\n",
              "      <td>1.106743</td>\n",
              "      <td>3812441.96</td>\n",
              "    </tr>\n",
              "    <tr>\n",
              "      <th>1</th>\n",
              "      <td>Great_Lakes</td>\n",
              "      <td>1/7/19 0:00</td>\n",
              "      <td>Organic</td>\n",
              "      <td>1.371280</td>\n",
              "      <td>275987.52</td>\n",
              "    </tr>\n",
              "    <tr>\n",
              "      <th>2</th>\n",
              "      <td>Great_Lakes</td>\n",
              "      <td>1/13/19 0:00</td>\n",
              "      <td>Conventional</td>\n",
              "      <td>1.063457</td>\n",
              "      <td>3843318.68</td>\n",
              "    </tr>\n",
              "    <tr>\n",
              "      <th>3</th>\n",
              "      <td>Great_Lakes</td>\n",
              "      <td>1/13/19 0:00</td>\n",
              "      <td>Organic</td>\n",
              "      <td>1.493384</td>\n",
              "      <td>244991.95</td>\n",
              "    </tr>\n",
              "    <tr>\n",
              "      <th>4</th>\n",
              "      <td>Great_Lakes</td>\n",
              "      <td>1/20/19 0:00</td>\n",
              "      <td>Conventional</td>\n",
              "      <td>1.049931</td>\n",
              "      <td>4587957.69</td>\n",
              "    </tr>\n",
              "    <tr>\n",
              "      <th>...</th>\n",
              "      <td>...</td>\n",
              "      <td>...</td>\n",
              "      <td>...</td>\n",
              "      <td>...</td>\n",
              "      <td>...</td>\n",
              "    </tr>\n",
              "    <tr>\n",
              "      <th>6799</th>\n",
              "      <td>West</td>\n",
              "      <td>11/18/18</td>\n",
              "      <td>Organic</td>\n",
              "      <td>1.610000</td>\n",
              "      <td>334096.14</td>\n",
              "    </tr>\n",
              "    <tr>\n",
              "      <th>6800</th>\n",
              "      <td>West</td>\n",
              "      <td>11/25/18</td>\n",
              "      <td>Conventional</td>\n",
              "      <td>1.240000</td>\n",
              "      <td>3260102.17</td>\n",
              "    </tr>\n",
              "    <tr>\n",
              "      <th>6801</th>\n",
              "      <td>West</td>\n",
              "      <td>11/25/18</td>\n",
              "      <td>Organic</td>\n",
              "      <td>1.730000</td>\n",
              "      <td>268362.34</td>\n",
              "    </tr>\n",
              "    <tr>\n",
              "      <th>6802</th>\n",
              "      <td>West</td>\n",
              "      <td>12/2/18</td>\n",
              "      <td>Conventional</td>\n",
              "      <td>1.200000</td>\n",
              "      <td>4594863.86</td>\n",
              "    </tr>\n",
              "    <tr>\n",
              "      <th>6803</th>\n",
              "      <td>West</td>\n",
              "      <td>12/2/18</td>\n",
              "      <td>Organic</td>\n",
              "      <td>1.620000</td>\n",
              "      <td>268969.03</td>\n",
              "    </tr>\n",
              "  </tbody>\n",
              "</table>\n",
              "<p>6804 rows × 5 columns</p>\n",
              "</div>"
            ],
            "text/plain": [
              "           region          date          type     price  units_sold\n",
              "0     Great_Lakes   1/7/19 0:00  Conventional  1.106743  3812441.96\n",
              "1     Great_Lakes   1/7/19 0:00       Organic  1.371280   275987.52\n",
              "2     Great_Lakes  1/13/19 0:00  Conventional  1.063457  3843318.68\n",
              "3     Great_Lakes  1/13/19 0:00       Organic  1.493384   244991.95\n",
              "4     Great_Lakes  1/20/19 0:00  Conventional  1.049931  4587957.69\n",
              "...           ...           ...           ...       ...         ...\n",
              "6799         West      11/18/18       Organic  1.610000   334096.14\n",
              "6800         West      11/25/18  Conventional  1.240000  3260102.17\n",
              "6801         West      11/25/18       Organic  1.730000   268362.34\n",
              "6802         West       12/2/18  Conventional  1.200000  4594863.86\n",
              "6803         West       12/2/18       Organic  1.620000   268969.03\n",
              "\n",
              "[6804 rows x 5 columns]"
            ]
          },
          "execution_count": 19,
          "metadata": {},
          "output_type": "execute_result"
        }
      ],
      "source": [
        "avocado = pd.read_csv('https://raw.githubusercontent.com/Gurobi/modeling-examples/master/price_optimization/HABdata_2019_2022.csv') # dataset downloaded directly from HAB\n",
        "avocado_old = pd.read_csv('https://raw.githubusercontent.com/Gurobi/modeling-examples/master/price_optimization/kaggledata_till2018.csv') # dataset downloaded from Kaggle\n",
        "avocado = avocado.append(avocado_old, ignore_index=True)\n",
        "avocado"
      ]
    },
    {
      "cell_type": "markdown",
      "id": "68efc9c1",
      "metadata": {
        "id": "68efc9c1"
      },
      "source": [
        "## Prepare the Dataset\n",
        "\n",
        "We will now prepare the data for making sales predictions. Add new columns to the dataframe for the year and seasonality. Let each year from 2015 through 2022 be given an index from 0 through 7 in the increasing order of the year. We will define the peak season to be the months of February through July. These months are set based on visual inspection of the trends, but you can try setting other months."
      ]
    },
    {
      "cell_type": "code",
      "execution_count": 20,
      "id": "cd09a61a",
      "metadata": {
        "id": "cd09a61a",
        "outputId": "2b4b0d3f-e747-4778-e393-6fbd5d37c4a1"
      },
      "outputs": [
        {
          "data": {
            "text/html": [
              "<div>\n",
              "<style scoped>\n",
              "    .dataframe tbody tr th:only-of-type {\n",
              "        vertical-align: middle;\n",
              "    }\n",
              "\n",
              "    .dataframe tbody tr th {\n",
              "        vertical-align: top;\n",
              "    }\n",
              "\n",
              "    .dataframe thead th {\n",
              "        text-align: right;\n",
              "    }\n",
              "</style>\n",
              "<table border=\"1\" class=\"dataframe\">\n",
              "  <thead>\n",
              "    <tr style=\"text-align: right;\">\n",
              "      <th></th>\n",
              "      <th>date</th>\n",
              "      <th>units_sold</th>\n",
              "      <th>price</th>\n",
              "      <th>region</th>\n",
              "      <th>year</th>\n",
              "      <th>month</th>\n",
              "      <th>year_index</th>\n",
              "      <th>peak</th>\n",
              "    </tr>\n",
              "  </thead>\n",
              "  <tbody>\n",
              "    <tr>\n",
              "      <th>0</th>\n",
              "      <td>2015-01-04</td>\n",
              "      <td>3.382800</td>\n",
              "      <td>1.020000</td>\n",
              "      <td>Great_Lakes</td>\n",
              "      <td>2015</td>\n",
              "      <td>1</td>\n",
              "      <td>0</td>\n",
              "      <td>0</td>\n",
              "    </tr>\n",
              "    <tr>\n",
              "      <th>1</th>\n",
              "      <td>2015-01-04</td>\n",
              "      <td>2.578275</td>\n",
              "      <td>1.100000</td>\n",
              "      <td>Midsouth</td>\n",
              "      <td>2015</td>\n",
              "      <td>1</td>\n",
              "      <td>0</td>\n",
              "      <td>0</td>\n",
              "    </tr>\n",
              "    <tr>\n",
              "      <th>2</th>\n",
              "      <td>2015-01-04</td>\n",
              "      <td>5.794411</td>\n",
              "      <td>0.890000</td>\n",
              "      <td>West</td>\n",
              "      <td>2015</td>\n",
              "      <td>1</td>\n",
              "      <td>0</td>\n",
              "      <td>0</td>\n",
              "    </tr>\n",
              "    <tr>\n",
              "      <th>3</th>\n",
              "      <td>2015-01-04</td>\n",
              "      <td>3.204112</td>\n",
              "      <td>0.980000</td>\n",
              "      <td>Southeast</td>\n",
              "      <td>2015</td>\n",
              "      <td>1</td>\n",
              "      <td>0</td>\n",
              "      <td>0</td>\n",
              "    </tr>\n",
              "    <tr>\n",
              "      <th>4</th>\n",
              "      <td>2015-01-04</td>\n",
              "      <td>0.321824</td>\n",
              "      <td>1.050000</td>\n",
              "      <td>Northern_New_England</td>\n",
              "      <td>2015</td>\n",
              "      <td>1</td>\n",
              "      <td>0</td>\n",
              "      <td>0</td>\n",
              "    </tr>\n",
              "    <tr>\n",
              "      <th>...</th>\n",
              "      <td>...</td>\n",
              "      <td>...</td>\n",
              "      <td>...</td>\n",
              "      <td>...</td>\n",
              "      <td>...</td>\n",
              "      <td>...</td>\n",
              "      <td>...</td>\n",
              "      <td>...</td>\n",
              "    </tr>\n",
              "    <tr>\n",
              "      <th>3397</th>\n",
              "      <td>2022-05-15</td>\n",
              "      <td>4.150433</td>\n",
              "      <td>1.269883</td>\n",
              "      <td>SouthCentral</td>\n",
              "      <td>2022</td>\n",
              "      <td>5</td>\n",
              "      <td>7</td>\n",
              "      <td>1</td>\n",
              "    </tr>\n",
              "    <tr>\n",
              "      <th>3398</th>\n",
              "      <td>2022-05-15</td>\n",
              "      <td>4.668815</td>\n",
              "      <td>1.644873</td>\n",
              "      <td>Northeast</td>\n",
              "      <td>2022</td>\n",
              "      <td>5</td>\n",
              "      <td>7</td>\n",
              "      <td>1</td>\n",
              "    </tr>\n",
              "    <tr>\n",
              "      <th>3399</th>\n",
              "      <td>2022-05-15</td>\n",
              "      <td>32.745321</td>\n",
              "      <td>1.527357</td>\n",
              "      <td>Total_US</td>\n",
              "      <td>2022</td>\n",
              "      <td>5</td>\n",
              "      <td>7</td>\n",
              "      <td>1</td>\n",
              "    </tr>\n",
              "    <tr>\n",
              "      <th>3400</th>\n",
              "      <td>2022-05-15</td>\n",
              "      <td>3.542902</td>\n",
              "      <td>1.514583</td>\n",
              "      <td>Midsouth</td>\n",
              "      <td>2022</td>\n",
              "      <td>5</td>\n",
              "      <td>7</td>\n",
              "      <td>1</td>\n",
              "    </tr>\n",
              "    <tr>\n",
              "      <th>3401</th>\n",
              "      <td>2022-05-15</td>\n",
              "      <td>1.560202</td>\n",
              "      <td>1.541429</td>\n",
              "      <td>Plains</td>\n",
              "      <td>2022</td>\n",
              "      <td>5</td>\n",
              "      <td>7</td>\n",
              "      <td>1</td>\n",
              "    </tr>\n",
              "  </tbody>\n",
              "</table>\n",
              "<p>3402 rows × 8 columns</p>\n",
              "</div>"
            ],
            "text/plain": [
              "           date  units_sold     price                region  year  month  \\\n",
              "0    2015-01-04    3.382800  1.020000           Great_Lakes  2015      1   \n",
              "1    2015-01-04    2.578275  1.100000              Midsouth  2015      1   \n",
              "2    2015-01-04    5.794411  0.890000                  West  2015      1   \n",
              "3    2015-01-04    3.204112  0.980000             Southeast  2015      1   \n",
              "4    2015-01-04    0.321824  1.050000  Northern_New_England  2015      1   \n",
              "...         ...         ...       ...                   ...   ...    ...   \n",
              "3397 2022-05-15    4.150433  1.269883          SouthCentral  2022      5   \n",
              "3398 2022-05-15    4.668815  1.644873             Northeast  2022      5   \n",
              "3399 2022-05-15   32.745321  1.527357              Total_US  2022      5   \n",
              "3400 2022-05-15    3.542902  1.514583              Midsouth  2022      5   \n",
              "3401 2022-05-15    1.560202  1.541429                Plains  2022      5   \n",
              "\n",
              "      year_index  peak  \n",
              "0              0     0  \n",
              "1              0     0  \n",
              "2              0     0  \n",
              "3              0     0  \n",
              "4              0     0  \n",
              "...          ...   ...  \n",
              "3397           7     1  \n",
              "3398           7     1  \n",
              "3399           7     1  \n",
              "3400           7     1  \n",
              "3401           7     1  \n",
              "\n",
              "[3402 rows x 8 columns]"
            ]
          },
          "execution_count": 20,
          "metadata": {},
          "output_type": "execute_result"
        }
      ],
      "source": [
        "# Add the index for each year from 2015 through 2022\n",
        "avocado['date'] = pd.to_datetime(avocado['date'])\n",
        "avocado['year'] = pd.DatetimeIndex(avocado['date']).year\n",
        "avocado['year_index'] = avocado['year'] - 2015\n",
        "avocado = avocado.sort_values(by='date')\n",
        "\n",
        "# Define the peak season\n",
        "avocado['month'] = pd.DatetimeIndex(avocado['date']).month\n",
        "peak_months = range(2,8)        # <--------- Set the months for the \"peak season\"\n",
        "def peak_season(row):\n",
        "    return 1 if int(row['month']) in peak_months else 0  \n",
        "\n",
        "avocado['peak'] = avocado.apply(lambda row: peak_season(row), axis=1)\n",
        "\n",
        "# Scale the number of avocados to millions\n",
        "avocado['units_sold'] = avocado['units_sold']/1000000\n",
        "\n",
        "# Select only conventional avocados\n",
        "avocado = avocado[avocado['type'] == 'Conventional'] \n",
        "\n",
        "avocado = avocado[['date','units_sold','price','region','year','month','year_index','peak']].reset_index(drop = True)\n",
        "\n",
        "avocado"
      ]
    },
    {
      "cell_type": "markdown",
      "id": "65bb1d21",
      "metadata": {
        "id": "65bb1d21"
      },
      "source": [
        "## Part 1: Observe Trends in the Data\n",
        "\n",
        "Now, we will infer sales trends in time and seasonality. For simplicity, let's proceed with data from the United States as a whole."
      ]
    },
    {
      "cell_type": "code",
      "execution_count": 21,
      "id": "ab0c4402",
      "metadata": {
        "id": "ab0c4402"
      },
      "outputs": [],
      "source": [
        "df_Total_US = avocado[avocado['region']=='Total_US']"
      ]
    },
    {
      "cell_type": "markdown",
      "id": "7903d4b5",
      "metadata": {
        "id": "7903d4b5"
      },
      "source": [
        "### Sales Over the Years"
      ]
    },
    {
      "cell_type": "code",
      "execution_count": 22,
      "id": "2ec7e699",
      "metadata": {
        "id": "2ec7e699",
        "outputId": "0eb444e3-4758-43f1-c61c-eb5f51da7faf"
      },
      "outputs": [
        {
          "data": {
            "image/png": "[encoded data removed]",
            "text/plain": [
              "<Figure size 1000x500 with 1 Axes>"
            ]
          },
          "metadata": {},
          "output_type": "display_data"
        }
      ],
      "source": [
        "fig, axes = plt.subplots(nrows=1, ncols=1, figsize=(10, 5)) \n",
        "\n",
        "mean = df_Total_US.groupby('year')['units_sold'].mean()\n",
        "std  = df_Total_US.groupby('year')['units_sold'].std()\n",
        "axes.errorbar(mean.index, mean, xerr=0.5, yerr=2*std, linestyle='') \n",
        "axes.set_ylabel('Units Sold (millions)')\n",
        "axes.set_xlabel('Year') \n",
        " \n",
        "fig.tight_layout()"
      ]
    },
    {
      "cell_type": "markdown",
      "id": "e37ba680",
      "metadata": {
        "id": "e37ba680"
      },
      "source": [
        "We can see that the sales generally increased over the years, albeit marginally. The dip in 2019 is the effect of the well-documented [2019 avocado shortage](https://abc7news.com/avocado-shortage-season-prices/5389855/) that led to avocados [nearly doubling in price.](https://abc7news.com/avocado-shortage-season-prices/5389855/)"
      ]
    },
    {
      "cell_type": "markdown",
      "id": "30abfba6",
      "metadata": {
        "id": "30abfba6"
      },
      "source": [
        "### Seasonality\n",
        "\n",
        "We will now see the sales trends within a year."
      ]
    },
    {
      "cell_type": "code",
      "execution_count": 23,
      "id": "4a594510",
      "metadata": {
        "id": "4a594510",
        "outputId": "ac92f976-2752-4665-f593-1ac99e637fc4"
      },
      "outputs": [
        {
          "data": {
            "image/png": "[encoded data removed]",
            "text/plain": [
              "<Figure size 1000x500 with 1 Axes>"
            ]
          },
          "metadata": {},
          "output_type": "display_data"
        }
      ],
      "source": [
        "fig, axes = plt.subplots(nrows=1, ncols=1, figsize=(10, 5)) \n",
        "\n",
        "mean = df_Total_US.groupby('month')['units_sold'].mean()\n",
        "std  = df_Total_US.groupby('month')['units_sold'].std()\n",
        " \n",
        "axes.errorbar(mean.index, mean, xerr=0.5, yerr=2*std, linestyle='') \n",
        "axes.set_ylabel('Units Sold (millions)')\n",
        "axes.set_xlabel('Month') \n",
        " \n",
        "fig.tight_layout()\n",
        " \n",
        "plt.xlabel('Month')\n",
        "axes.set_xticks(range(1,13)) \n",
        "plt.ylabel('Units sold (millions)')\n",
        "plt.show()"
      ]
    },
    {
      "cell_type": "markdown",
      "id": "c87738d0",
      "metadata": {
        "id": "c87738d0"
      },
      "source": [
        "We see a Super Bowl peak in February and a Cinco de Mayo peak in May. "
      ]
    },
    {
      "cell_type": "markdown",
      "id": "2e04cef1",
      "metadata": {
        "id": "2e04cef1"
      },
      "source": [
        "### Correlations\n",
        "\n",
        "Now, we will see how the variables are correlated with each other.\n",
        "The end goal is to predict sales given the price of an avocado, year and seasonality (peak or not)."
      ]
    },
    {
      "cell_type": "code",
      "execution_count": 24,
      "id": "25729f7d",
      "metadata": {
        "id": "25729f7d",
        "outputId": "7f86168e-295e-4a37-fa21-dd8a24046b3b"
      },
      "outputs": [
        {
          "data": {
            "image/png": "[encoded data removed]",
            "text/plain": [
              "<Figure size 1500x500 with 2 Axes>"
            ]
          },
          "metadata": {},
          "output_type": "display_data"
        }
      ],
      "source": [
        "fig, axes = plt.subplots(nrows=1, ncols=1, figsize=(15, 5)) \n",
        "sns.heatmap(df_Total_US[['units_sold', 'price', 'year', 'peak']].corr(),annot=True, center=0,ax=axes) \n",
        "\n",
        "axes.set_title('Correlations for conventional avocados') \n",
        "plt.show()"
      ]
    },
    {
      "cell_type": "markdown",
      "id": "fe48eecb",
      "metadata": {
        "id": "fe48eecb"
      },
      "source": [
        "As expected, the sales quantity has a negative correlation with the price per avocado. The sales quantity has a positive correlation with the year and season being a peak season."
      ]
    },
    {
      "cell_type": "markdown",
      "id": "27356cce",
      "metadata": {
        "id": "27356cce"
      },
      "source": [
        "### Regions\n",
        "\n",
        "Finally, we will see how the sales differ among the different regions. This will determine the number of avocados that we want to supply to each region."
      ]
    },
    {
      "cell_type": "code",
      "execution_count": 25,
      "id": "081b3f31",
      "metadata": {
        "id": "081b3f31",
        "outputId": "902f4a2c-1290-4c4f-b421-9fdbfa13dcfb"
      },
      "outputs": [
        {
          "data": {
            "image/png": "[encoded data removed]",
            "text/plain": [
              "<Figure size 1000x500 with 1 Axes>"
            ]
          },
          "metadata": {},
          "output_type": "display_data"
        }
      ],
      "source": [
        "fig, axes = plt.subplots(nrows=1, ncols=1, figsize=(10, 5)) \n",
        "\n",
        "regions = ['Great_Lakes','Midsouth','Northeast','Northern_New_England','SouthCentral','Southeast','West','Plains'] \n",
        "df = avocado[avocado.region.isin(regions)]  \n",
        "\n",
        "mean = df.groupby('region')['units_sold'].mean()\n",
        "std  = df.groupby('region')['units_sold'].std() \n",
        " \n",
        "axes.errorbar(range(len(mean)), mean, xerr=0.5, yerr=2*std, linestyle='')  \n",
        "\n",
        "fig.tight_layout()\n",
        " \n",
        "plt.xlabel('Region') \n",
        "plt.xticks(range(len(mean)), pd.DataFrame(mean)['units_sold'].index,rotation=20)\n",
        "plt.ylabel('Units sold (millions)')\n",
        "plt.show()"
      ]
    },
    {
      "cell_type": "markdown",
      "id": "1d1a2716",
      "metadata": {
        "id": "1d1a2716"
      },
      "source": [
        "Clearly, west-coasters love avocados."
      ]
    },
    {
      "cell_type": "markdown",
      "id": "b20e125e",
      "metadata": {
        "id": "b20e125e"
      },
      "source": [
        "## Part II: Predict the Sales\n",
        "\n",
        "The trends observed in Part I motivate us to construct a prediction model for sales using the independent variables- price, year, region and seasonality.\n",
        "Henceforth, the sales quantity will be referred to as the *predicted demand*.\n",
        "\n",
        "Let us now construct a linear regressor for the demand.\n",
        "Note that the region is a categorical variable.\n",
        "The linear regressor can be mathematically expressed as:\n",
        "\n",
        "$$demand = \\beta_0 + \\beta_1 * price + \\sum\\limits_{region} \\beta^{region}_3 * \\mathbb{1}(region)  +  \\beta_4 w_{year}*year +  \\beta_5  * \\mathbb{1}(peak).$$\n",
        "\n",
        "Here, the $\\beta$ values are weights (or \"co-efficients\") that have to be learned from the data. \n",
        "Note that the notation $\\mathbb{1}(region)$ is an indicator function that takes the value $1$ for each region in the summation. The value of $\\mathbb{1}(peak)$ is $1$ if we consider the peak season.\n",
        "\n",
        "To validate the regression model, we will randomly split the dataset into $80\\%$ training and $20\\%$ testing data and learn the weights using sklearns. "
      ]
    },
    {
      "cell_type": "code",
      "execution_count": 26,
      "id": "55a07590",
      "metadata": {
        "id": "55a07590",
        "outputId": "84434ad8-9a79-4ab9-adbc-81c228b70144"
      },
      "outputs": [
        {
          "name": "stdout",
          "output_type": "stream",
          "text": [
            "The R^2 value in the test set is 0.8982069358257861\n"
          ]
        }
      ],
      "source": [
        "import statsmodels.api as sm\n",
        "import statsmodels.formula.api as smf\n",
        "from sklearn.model_selection import train_test_split\n",
        "from sklearn.metrics import r2_score\n",
        "\n",
        "# Split the data for training and testing\n",
        "train, test = train_test_split(df, train_size=0.8, random_state=1)\n",
        "df_train = pd.DataFrame(train, columns=df.columns)\n",
        "df_test = pd.DataFrame(test, columns=df.columns)\n",
        " \n",
        "# Train the model\n",
        "formula = 'units_sold ~ price + year_index + C(region)+ peak'\n",
        "mod = smf.ols(formula,data=df_train)\n",
        "result = mod.fit()\n",
        "result.summary()\n",
        "\n",
        "# Get R^2 from test data\n",
        "y_true = df_test['units_sold']\n",
        "y_pred = result.predict(df_test)\n",
        "print(\"The R^2 value in the test set is\",r2_score(y_true, y_pred))"
      ]
    },
    {
      "cell_type": "markdown",
      "id": "1e085dad",
      "metadata": {
        "id": "1e085dad"
      },
      "source": [
        "We can observe a good $R^2$ value in the test set. We will now train the fit the weights to the full dataset."
      ]
    },
    {
      "cell_type": "code",
      "execution_count": 27,
      "id": "506c8804",
      "metadata": {
        "id": "506c8804",
        "outputId": "211a048e-4dab-49ac-a123-e22fdf4d82f8"
      },
      "outputs": [
        {
          "name": "stdout",
          "output_type": "stream",
          "text": [
            "The R^2 value in the full dataset is 0.9066729322212483\n"
          ]
        }
      ],
      "source": [
        "formula = 'units_sold ~ price + year_index + C(region)+ peak'\n",
        "mod_full = smf.ols(formula,data=df)\n",
        "result_full = mod_full.fit()\n",
        "\n",
        "y_true_full = df['units_sold']\n",
        "y_pred_full = result_full.predict(df)\n",
        "print(\"The R^2 value in the full dataset is\",r2_score(y_true_full, y_pred_full))\n",
        "\n",
        "# Get the weights and store it\n",
        "coef_dict = result_full.params.to_dict() \n",
        "coef_dict['C(region)[T.Great_Lakes]'] = 0 "
      ]
    },
    {
      "cell_type": "markdown",
      "id": "7cbe1cd5",
      "metadata": {
        "id": "7cbe1cd5"
      },
      "source": [
        "## Part III: Optimize for Price and Supply of Avocados"
      ]
    },
    {
      "cell_type": "markdown",
      "id": "214906e5",
      "metadata": {
        "id": "214906e5"
      },
      "source": [
        "Knowing how the price of an avocado affects the demand, how can we set the optimal avocado price? \n",
        "We don't want to set the price too high, since that could drive demand and sales down. At the same time, setting the price too low could be sub-optimal when maximizing revenue. So what is the sweet spot? \n",
        "\n",
        "On the distribution logistics, we want to make sure that there are enough avocados across the regions. We can address these considerations in a mathematical optimization model.\n",
        "An optimization model finds the **best solution** according to an **objective function** such that the solution satisfies a set of **constraints**. \n",
        "Here, a solution is expressed as a vector of real values or integer values called **decision variables**.\n",
        "Constraints are a set of equations or inequalities written as a function of the decision variables.\n",
        "\n",
        "At the start of each week, assume that the total number of available products is finite. This quantity needs to be distributed to the various regions while maximizing net revenue. So there are two key decisions - the price of an avocado in each region, and the number of avocados allocated to each region. \n",
        "\n",
        "Let us now define some input parameters and notations used for creating the model. The subscript $r$ will be used to denote each region.\n",
        "\n",
        "### Input Parameters\n",
        "- $R$: set of regions,\n",
        "- $d(p,r)$: predicted demand in region $r\\in R$ when the avocado per product is $p$, \n",
        "- $B$: available avocados to be distributed across the regions, \n",
        "- $c_{waste}$: cost ($\\$$) per wasted avocado,\n",
        "- $c^r_{transport}$: cost ($\\$$) of transporting a avocado to region $r \\in R$,\n",
        "- $a^r_{min},a^r_{max}$: minimum and maximum price ($\\$$) per avocado for reigon $r \\in R$,\n",
        "- $b^r_{min},b^r_{max}$: minimum and maximum number of avocados allocated to region $r \\in R$,\n",
        "\n",
        "The following code loads the Gurobi python package and initiates the optimization model. \n",
        "The value of $B$ is set to $30$ million avocados, which is close to the average weekly supply value from the data.\n",
        "For illustration, let us consider the peak season of 2021.\n",
        "The cost of wasting an avocado is set to $\\$0.10$.\n",
        "The cost of transporting an avocado ranges between $\\$0.10$ to $\\$0.50$ based on each region's distance from the southern border, where the [majority of avocado supply comes from](https://www.britannica.com/plant/avocado).\n",
        "Further, we can set the price of an avocado to not exceed $\\$ 2$ apiece. "
      ]
    },
    {
      "cell_type": "code",
      "execution_count": 28,
      "id": "29328983",
      "metadata": {
        "id": "29328983",
        "outputId": "4740543c-90c8-4db0-a3ed-90e8ce5b9dc6"
      },
      "outputs": [],
      "source": [
        "import gurobipy as gp \n",
        "from gurobipy import GRB\n",
        "\n",
        "m = gp.Model(\"Avocado_Price_Allocation\")\n",
        "\n",
        "# Sets and parameters\n",
        "R = regions   # set of all regions\n",
        "\n",
        "B = 30  # total amount ot avocado supply\n",
        "\n",
        "peak_or_not = 1 # 1 if it is the peak season; 1 if isn't\n",
        "year = 2022\n",
        "\n",
        "c_waste = 0.1 # the cost ($) of wasting an avocado\n",
        "c_transport = {'Great_Lakes': .3,'Midsouth':.1,'Northeast':.4,'Northern_New_England':.5,'SouthCentral':.3,'Southeast':.2,'West':.2,'Plains':.2}\n",
        "# the cost of transporting an avocado\n",
        "\n",
        "# Get the lower and upper bounds from the dataset for the price and the number of products to be stocked \n",
        "a_min = {r: 0 for r in R} # minimum avocado price in each region \n",
        "a_max = {r: 2 for r in R} # maximum avocado price in each region \n",
        "b_min = dict(df.groupby('region')['units_sold'].min())  # minimum number of avocados allocated to each region\n",
        "b_max = dict(df.groupby('region')['units_sold'].max())   # maximum number of avocados allocated to each region"
      ]
    },
    {
      "cell_type": "markdown",
      "id": "1fa17930",
      "metadata": {
        "id": "1fa17930"
      },
      "source": [
        "### Decision Variables\n",
        "\n",
        "Let us now define the decision variables.\n",
        "In our model, we want to store the price and number of avocados allocated to each region. We also want variables that track how many avocados are predicted to be sold and how many are predicted to be wasted. \n",
        "The following notation is used to model these decision variables, indexed for each region $r$.\n",
        "\n",
        "$p_r$: the price of an avocado ($\\$$) in region $r$,\n",
        "\n",
        "$x_r$: the number of products avocados supplied to region $r$,\n",
        "\n",
        "$s_r = \\min \\{x_r,d_r(p_r)\\}$: the predicted number of avocados sold in region $r$, \n",
        "\n",
        "$w_r = x_r - s_r$: the predicted number of avocados wasted in region $r$\n",
        "\n",
        "We will now add the variables to the Gurobi model."
      ]
    },
    {
      "cell_type": "code",
      "execution_count": 29,
      "id": "0bb7f0f8",
      "metadata": {
        "id": "0bb7f0f8"
      },
      "outputs": [],
      "source": [
        "p = m.addVars(R,name=\"p\",lb=a_min, ub=a_max)   # price of avocados in each region\n",
        "x = m.addVars(R,name=\"x\",lb=b_min,ub=b_max)  # quantity supplied to each region\n",
        "s = m.addVars(R,name=\"s\",lb=0)   # predicted amount of sales in each region for the given price\n",
        "w = m.addVars(R,name=\"w\",lb=0)   # excess wasteage in each region"
      ]
    },
    {
      "cell_type": "markdown",
      "id": "389ffd60",
      "metadata": {
        "id": "389ffd60"
      },
      "source": [
        "Now, let's create an expression for the predicted demand in each region as a function of price. Note that apart from the price, none of the other parameters in this prediction function (such as region, year and seasonality) are decision variables, and hence can be treated as constants."
      ]
    },
    {
      "cell_type": "code",
      "execution_count": 30,
      "id": "8960e806",
      "metadata": {
        "id": "8960e806",
        "outputId": "e458aad6-8d34-4cca-974f-ed61d01d23bb"
      },
      "outputs": [
        {
          "name": "stdout",
          "output_type": "stream",
          "text": [
            "7.113205674224977 + -2.2037701048902405 <gurobi.Var *Awaiting Model Update*>\n",
            "6.870512520547103 + -2.2037701048902405 <gurobi.Var *Awaiting Model Update*>\n",
            "8.546225510868211 + -2.2037701048902405 <gurobi.Var *Awaiting Model Update*>\n",
            "4.093961883587098 + -2.2037701048902405 <gurobi.Var *Awaiting Model Update*>\n",
            "8.827017748198436 + -2.2037701048902405 <gurobi.Var *Awaiting Model Update*>\n",
            "7.697195840886147 + -2.2037701048902405 <gurobi.Var *Awaiting Model Update*>\n",
            "9.715005122866245 + -2.2037701048902405 <gurobi.Var *Awaiting Model Update*>\n",
            "5.298172801834565 + -2.2037701048902405 <gurobi.Var *Awaiting Model Update*>\n"
          ]
        }
      ],
      "source": [
        "d = {r: (coef_dict['Intercept']+coef_dict['price']*p[r] + coef_dict['C(region)[T.%s]'%r] + coef_dict['year_index']*(year-2015) + coef_dict['peak']*peak_or_not) for r in R}\n",
        "for r in R:\n",
        "    print(d[r])"
      ]
    },
    {
      "cell_type": "markdown",
      "id": "3d733d6f",
      "metadata": {
        "id": "3d733d6f"
      },
      "source": [
        "### Set the Objective\n",
        "\n",
        "Next, we will define the objective function: we want to maximizing the **net revenue**. The revenue from sales in each region is calculated by the price of an avocado in that region multiplied by the quantity sold there. There are two types of costs incurred: the wastage costs for excess unsold avocados and the cost of transporting the avocados to the different regions. \n",
        "\n",
        "The net revenue is the sales revenue subtracted by the total costs incurred. We assume that the purchase costs are fixed and are not incorporated in this model.\n",
        "\n",
        "Using the defined decision variables, the objective can be written as follows.\n",
        "\n",
        "\\begin{align}\n",
        "\\textrm{maximize} &  \\sum_{r}  (p_r * s_r - c_{waste} * w_r - c^r_{transport} * x_r)& \n",
        "\\end{align}\n",
        "\n",
        "Let us now add the objective function to the model."
      ]
    },
    {
      "cell_type": "code",
      "execution_count": 31,
      "id": "bb5e1218",
      "metadata": {
        "id": "bb5e1218"
      },
      "outputs": [],
      "source": [
        "m.setObjective(sum(p[r]*s[r] - c_waste*w[r] - c_transport[r]*x[r] for r in R)) \n",
        "m.ModelSense = GRB.MAXIMIZE"
      ]
    },
    {
      "cell_type": "markdown",
      "id": "93a8432c",
      "metadata": {
        "id": "93a8432c"
      },
      "source": [
        "### Add the Supply Constraint\n",
        "\n",
        "We now introduce the constraints. The first constraint is to make sure that the total number of avocados supplied is equal to $B$, which can be mathematically expressed as follows.\n",
        "\n",
        "\\begin{align*} \n",
        "\\sum_{r} x_r &= B\n",
        "\\end{align*}\n",
        "\n",
        "The following code adds this constraint to the model."
      ]
    },
    {
      "cell_type": "code",
      "execution_count": 32,
      "id": "84bd6017",
      "metadata": {
        "id": "84bd6017"
      },
      "outputs": [],
      "source": [
        "m.addConstr(sum(x[r] for r in R) == B)\n",
        "m.update()"
      ]
    },
    {
      "cell_type": "markdown",
      "id": "380cbfab",
      "metadata": {
        "id": "380cbfab"
      },
      "source": [
        "### Add Constraints That Define Sales Quantity\n",
        "\n",
        "Next, we should define the predicted sales quantity in each region.\n",
        "We can assume that if we supply more than the predicted demand, we sell exactly the predicted demand. \n",
        "Otherwise, we sell exactly the allocated amount.\n",
        "Hence, the predicted sales quantity is the minimum of the allocated quantity and the predicted demand, i.e., $s_r = \\min \\{x_r,d_r(p_r)\\}$. \n",
        "This relationship can be modeled by the following two constraints for each region $r$.\n",
        "\n",
        "\\begin{align*} \n",
        "s_r &\\leq x_r  \\\\\n",
        "s_r &\\leq d(p_r,r)  \n",
        "\\end{align*}\n",
        "\n",
        "These constraints will ensure that the sales quantity $s_r$ in region $r$ is  greater than neither the allocated quantity nor the predicted demand. Note that the maximization objective function tries to maximize the revenue from sales, and therefore the optimizer will maximize the predicted sales quantity. This is assuming that the surplus and transportation costs are less than the sales price per avocado. Hence, these constraints along with the objective will ensure that the sales are equal to the minimum of supply and predicted demand.\n",
        "\n",
        "Let us now add these constraints to the model."
      ]
    },
    {
      "cell_type": "code",
      "execution_count": 33,
      "id": "ca72fc5b",
      "metadata": {
        "id": "ca72fc5b"
      },
      "outputs": [],
      "source": [
        "m.addConstrs((s[r] <= x[r] for r in R))\n",
        "m.addConstrs((s[r] <= d[r] for r in R)) \n",
        "m.update()"
      ]
    },
    {
      "cell_type": "markdown",
      "id": "d0875f6c",
      "metadata": {
        "id": "d0875f6c"
      },
      "source": [
        "### Add the Wastage Constraints\n",
        "\n",
        "Finally, we should define the predicted wastage in each region, given by the supplied quantity that is not predicted to be sold. We can express this mathematically for each region $r$.\n",
        "\n",
        "\\begin{align*} \n",
        "w_r &= x_r - s_r\n",
        "\\end{align*} \n",
        "\n",
        "We can add these constraints to the model."
      ]
    },
    {
      "cell_type": "code",
      "execution_count": 34,
      "id": "38ac8066",
      "metadata": {
        "id": "38ac8066"
      },
      "outputs": [],
      "source": [
        "m.addConstrs((w[r] == x[r]-s[r] for r in R))\n",
        "m.update()"
      ]
    },
    {
      "cell_type": "markdown",
      "id": "dab6884c",
      "metadata": {
        "id": "dab6884c"
      },
      "source": [
        "### Fire Up the Solver\n",
        "\n",
        "We have added the decision variables, objective function, and the constraints to the model. \n",
        "The model is ready to be solved.\n",
        "Before we do so, we should let the solver know what type of model this is.\n",
        "The default setting assumes that the objective and the constraints are linear functions of the variables.\n",
        "\n",
        "In our model, the objective is **quadratic** since we take the product of price and the predicted sales, both of which are variables. \n",
        "Maximizing a quadratic term is said to be **non-convex**, and we specify this using a Gurobi parameter value to be $2$. \n",
        "See [here](https://www.gurobi.com/documentation/9.5/refman/nonconvex.html) for more details."
      ]
    },
    {
      "cell_type": "code",
      "execution_count": 35,
      "id": "ac3c5eca",
      "metadata": {
        "id": "ac3c5eca",
        "outputId": "a1f62bb3-05c9-46a7-f4f6-b0eb3dd9eaf6"
      },
      "outputs": [
        {
          "name": "stdout",
          "output_type": "stream",
          "text": [
            "Set parameter NonConvex to value 2\n",
            "Gurobi Optimizer version 10.0.1 build v10.0.1rc0 (win64)\n",
            "\n",
            "CPU model: Intel(R) Core(TM) i7-10510U CPU @ 1.80GHz, instruction set [SSE2|AVX|AVX2]\n",
            "Thread count: 4 physical cores, 8 logical processors, using up to 8 threads\n",
            "\n",
            "Optimize a model with 25 rows, 32 columns and 64 nonzeros\n",
            "Model fingerprint: 0x42b61949\n",
            "Model has 8 quadratic objective terms\n",
            "Coefficient statistics:\n",
            "  Matrix range     [1e+00, 2e+00]\n",
            "  Objective range  [1e-01, 5e-01]\n",
            "  QObjective range [2e+00, 2e+00]\n",
            "  Bounds range     [2e-01, 1e+01]\n",
            "  RHS range        [4e+00, 3e+01]\n",
            "\n",
            "Continuous model is non-convex -- solving as a MIP\n",
            "\n",
            "Presolve removed 8 rows and 8 columns\n",
            "Presolve time: 0.01s\n",
            "Presolved: 34 rows, 33 columns, 81 nonzeros\n",
            "Presolved model has 8 bilinear constraint(s)\n",
            "Variable types: 33 continuous, 0 integer (0 binary)\n",
            "\n",
            "Root relaxation: objective 5.288486e+01, 36 iterations, 0.01 seconds (0.00 work units)\n",
            "\n",
            "    Nodes    |    Current Node    |     Objective Bounds      |     Work\n",
            " Expl Unexpl |  Obj  Depth IntInf | Incumbent    BestBd   Gap | It/Node Time\n",
            "\n",
            "     0     0   52.88486    0    8          -   52.88486      -     -    0s\n",
            "H    0     0                      29.5452368   52.88486  79.0%     -    0s\n",
            "H    0     0                      42.5082914   52.88486  24.4%     -    0s\n",
            "     0     0   47.12254    0    8   42.50829   47.12254  10.9%     -    0s\n",
            "     0     0   43.45639    0    8   42.50829   43.45639  2.23%     -    0s\n",
            "     0     0   42.65795    0    8   42.50829   42.65795  0.35%     -    0s\n",
            "     0     0   42.55973    0    8   42.50829   42.55973  0.12%     -    0s\n",
            "     0     0   42.52368    0    8   42.50829   42.52368  0.04%     -    0s\n",
            "     0     0   42.52041    0    8   42.50829   42.52041  0.03%     -    0s\n",
            "     0     0   42.51442    0    8   42.50829   42.51442  0.01%     -    0s\n",
            "     0     2   42.51442    0    8   42.50829   42.51442  0.01%     -    0s\n",
            "\n",
            "Cutting planes:\n",
            "  RLT: 16\n",
            "\n",
            "Explored 7 nodes (104 simplex iterations) in 0.17 seconds (0.00 work units)\n",
            "Thread count was 8 (of 8 available processors)\n",
            "\n",
            "Solution count 2: 42.5083 29.5452 \n",
            "\n",
            "Optimal solution found (tolerance 1.00e-04)\n",
            "Best objective 4.250829142540e+01, best bound 4.251135580277e+01, gap 0.0072%\n"
          ]
        }
      ],
      "source": [
        "m.Params.NonConvex = 2 \n",
        "m.optimize() "
      ]
    },
    {
      "cell_type": "markdown",
      "id": "aed67953",
      "metadata": {
        "id": "aed67953"
      },
      "source": [
        "The solver solved the optimization problem in less than a second.\n",
        "Let us now analyze the optimal solution by storing it in a Pandas dataframe."
      ]
    },
    {
      "cell_type": "code",
      "execution_count": 36,
      "id": "3f7ff154",
      "metadata": {
        "id": "3f7ff154",
        "outputId": "972262bb-9fca-4c80-88ee-c711d03d9f20"
      },
      "outputs": [
        {
          "name": "stdout",
          "output_type": "stream",
          "text": [
            "\n",
            " The optimal net revenue: $42.508291 million\n"
          ]
        },
        {
          "data": {
            "text/html": [
              "<div>\n",
              "<style scoped>\n",
              "    .dataframe tbody tr th:only-of-type {\n",
              "        vertical-align: middle;\n",
              "    }\n",
              "\n",
              "    .dataframe tbody tr th {\n",
              "        vertical-align: top;\n",
              "    }\n",
              "\n",
              "    .dataframe thead th {\n",
              "        text-align: right;\n",
              "    }\n",
              "</style>\n",
              "<table border=\"1\" class=\"dataframe\">\n",
              "  <thead>\n",
              "    <tr style=\"text-align: right;\">\n",
              "      <th></th>\n",
              "      <th>Region</th>\n",
              "      <th>Price</th>\n",
              "      <th>Allocated</th>\n",
              "      <th>Sold</th>\n",
              "      <th>Wasted</th>\n",
              "      <th>Pred_demand</th>\n",
              "    </tr>\n",
              "  </thead>\n",
              "  <tbody>\n",
              "    <tr>\n",
              "      <th>0</th>\n",
              "      <td>Great_Lakes</td>\n",
              "      <td>1.663872</td>\n",
              "      <td>3.446414</td>\n",
              "      <td>3.446414</td>\n",
              "      <td>1.000000e-08</td>\n",
              "      <td>3.446414</td>\n",
              "    </tr>\n",
              "    <tr>\n",
              "      <th>1</th>\n",
              "      <td>Midsouth</td>\n",
              "      <td>1.508809</td>\n",
              "      <td>5.272290</td>\n",
              "      <td>3.545445</td>\n",
              "      <td>1.726845e+00</td>\n",
              "      <td>3.545445</td>\n",
              "    </tr>\n",
              "    <tr>\n",
              "      <th>2</th>\n",
              "      <td>Northeast</td>\n",
              "      <td>2.000000</td>\n",
              "      <td>4.138685</td>\n",
              "      <td>4.138685</td>\n",
              "      <td>1.000000e-08</td>\n",
              "      <td>4.138685</td>\n",
              "    </tr>\n",
              "    <tr>\n",
              "      <th>3</th>\n",
              "      <td>Northern_New_England</td>\n",
              "      <td>1.441157</td>\n",
              "      <td>0.917984</td>\n",
              "      <td>0.917984</td>\n",
              "      <td>0.000000e+00</td>\n",
              "      <td>0.917984</td>\n",
              "    </tr>\n",
              "    <tr>\n",
              "      <th>4</th>\n",
              "      <td>SouthCentral</td>\n",
              "      <td>2.000000</td>\n",
              "      <td>4.419478</td>\n",
              "      <td>4.419478</td>\n",
              "      <td>1.000000e-08</td>\n",
              "      <td>4.419478</td>\n",
              "    </tr>\n",
              "    <tr>\n",
              "      <th>5</th>\n",
              "      <td>Southeast</td>\n",
              "      <td>1.746370</td>\n",
              "      <td>3.848598</td>\n",
              "      <td>3.848598</td>\n",
              "      <td>2.000000e-08</td>\n",
              "      <td>3.848598</td>\n",
              "    </tr>\n",
              "    <tr>\n",
              "      <th>6</th>\n",
              "      <td>West</td>\n",
              "      <td>2.000000</td>\n",
              "      <td>5.307465</td>\n",
              "      <td>5.307465</td>\n",
              "      <td>2.000000e-08</td>\n",
              "      <td>5.307465</td>\n",
              "    </tr>\n",
              "    <tr>\n",
              "      <th>7</th>\n",
              "      <td>Plains</td>\n",
              "      <td>1.202070</td>\n",
              "      <td>2.649086</td>\n",
              "      <td>2.649086</td>\n",
              "      <td>2.000000e-08</td>\n",
              "      <td>2.649086</td>\n",
              "    </tr>\n",
              "  </tbody>\n",
              "</table>\n",
              "</div>"
            ],
            "text/plain": [
              "                 Region     Price  Allocated      Sold        Wasted  \\\n",
              "0           Great_Lakes  1.663872   3.446414  3.446414  1.000000e-08   \n",
              "1              Midsouth  1.508809   5.272290  3.545445  1.726845e+00   \n",
              "2             Northeast  2.000000   4.138685  4.138685  1.000000e-08   \n",
              "3  Northern_New_England  1.441157   0.917984  0.917984  0.000000e+00   \n",
              "4          SouthCentral  2.000000   4.419478  4.419478  1.000000e-08   \n",
              "5             Southeast  1.746370   3.848598  3.848598  2.000000e-08   \n",
              "6                  West  2.000000   5.307465  5.307465  2.000000e-08   \n",
              "7                Plains  1.202070   2.649086  2.649086  2.000000e-08   \n",
              "\n",
              "   Pred_demand  \n",
              "0     3.446414  \n",
              "1     3.545445  \n",
              "2     4.138685  \n",
              "3     0.917984  \n",
              "4     4.419478  \n",
              "5     3.848598  \n",
              "6     5.307465  \n",
              "7     2.649086  "
            ]
          },
          "execution_count": 36,
          "metadata": {},
          "output_type": "execute_result"
        }
      ],
      "source": [
        "solution = pd.DataFrame() \n",
        "solution['Region'] = R\n",
        "solution['Price'] = [p[r].X for r in R]\n",
        "solution['Allocated'] = [round(x[r].X,8) for r in R]\n",
        "solution['Sold'] = [round(s[r].X,8) for r in R]\n",
        "solution['Wasted'] = [round(w[r].X,8) for r in R]  \n",
        "solution['Pred_demand'] = [(coef_dict['Intercept']+coef_dict['price']*p[r].X + coef_dict['C(region)[T.%s]'%r] + coef_dict['year_index']*(year-2015) + coef_dict['peak']*peak_or_not) for r in R]\n",
        "\n",
        "opt_revenue = m.ObjVal\n",
        "print(\"\\n The optimal net revenue: $%f million\"%opt_revenue) \n",
        "solution"
      ]
    },
    {
      "cell_type": "markdown",
      "id": "f475012d",
      "metadata": {
        "id": "f475012d"
      },
      "source": [
        "Let us now visualize a scatter plot between the price and the number of avocados sold (in millions) for the eight regions."
      ]
    },
    {
      "cell_type": "code",
      "execution_count": 37,
      "id": "551f4eb6",
      "metadata": {
        "id": "551f4eb6",
        "outputId": "18fcc5c8-1050-444b-f69f-8e1d721f0b47"
      },
      "outputs": [
        {
          "data": {
            "image/png": "[encoded data removed]",
            "text/plain": [
              "<Figure size 640x480 with 1 Axes>"
            ]
          },
          "metadata": {},
          "output_type": "display_data"
        },
        {
          "name": "stdout",
          "output_type": "stream",
          "text": [
            "The circles represent sales quantity and the cross markers represent the wasted quantity.\n"
          ]
        }
      ],
      "source": [
        "fig, ax = plt.subplots(1,1) \n",
        "plot_sol = sns.scatterplot(data=solution,x='Price',y='Sold',hue='Region',s=100)\n",
        "plot_waste = sns.scatterplot(data=solution,x='Price',y='Wasted',marker='x',hue='Region',s=100,legend = False)\n",
        "\n",
        "plot_sol.legend(loc='center left', bbox_to_anchor=(1.25, 0.5), ncol=1)\n",
        "plot_waste.legend(loc='center left', bbox_to_anchor=(1.25, 0.5), ncol=1)\n",
        "plt.ylim(0, 5)\n",
        "plt.xlim(1, 2.2)\n",
        "ax.set_xlabel('Price per avocado ($)')\n",
        "ax.set_ylabel('Number of avocados sold (millions)')\n",
        "plt.show() \n",
        "print(\"The circles represent sales quantity and the cross markers represent the wasted quantity.\")"
      ]
    },
    {
      "cell_type": "markdown",
      "id": "ed0d2b24",
      "metadata": {
        "id": "ed0d2b24"
      },
      "source": [
        "## Experiment with Parameter Settings\n",
        "\n",
        "While this notebook walked through how to build an optimization model piece-by-piece, the following code contains the overall optimization model. You can input different parameter values and see how the optimal solution changes. \n",
        "The value of $B$ can be controlled using the slider below the cell.\n"
      ]
    },
    {
      "cell_type": "code",
      "execution_count": 38,
      "id": "26fc6a49",
      "metadata": {
        "colab": {
          "referenced_widgets": [
            "25bfc9bd60d7463eabaec1397320e046"
          ]
        },
        "id": "26fc6a49",
        "outputId": "f693142d-7fab-4e4b-cb3d-5e842e4afae2"
      },
      "outputs": [
        {
          "name": "stdout",
          "output_type": "stream",
          "text": [
            "Select a value for the available inventory (B) (in millions):\n",
            "\n"
          ]
        },
        {
          "data": {
            "application/vnd.jupyter.widget-view+json": {
              "model_id": "a585af381e9d45509d3f153112b0c132",
              "version_major": 2,
              "version_minor": 0
            },
            "text/plain": [
              "interactive(children=(IntSlider(value=27, description='x', max=40, min=15), Output()), _dom_classes=('widget-i…"
            ]
          },
          "metadata": {},
          "output_type": "display_data"
        },
        {
          "data": {
            "text/plain": [
              "<function __main__.solve_MIQP(x)>"
            ]
          },
          "execution_count": 38,
          "metadata": {},
          "output_type": "execute_result"
        }
      ],
      "source": [
        "from ipywidgets import interact, interactive, fixed, interact_manual\n",
        "import ipywidgets as widgets \n",
        " \n",
        "import plotly.express as px\n",
        "\n",
        "peak_or_not = 1 # \n",
        "year = 2021\n",
        "\n",
        "# Sets and parameters\n",
        "R = regions  \n",
        "c_waste = 0.1 \n",
        "c_transport = {'Great_Lakes': .3,'Midsouth':.1,'Northeast':.4,'Northern_New_England':.5,'SouthCentral':.3,'Southeast':.2,'West':.2,'Plains':.2}\n",
        "\n",
        "# Get the lower and upper bounds for price (p) and amount to be stocked (x) from the dataset\n",
        "price_min = dict(df.groupby('region')['price'].min())\n",
        "price_max = dict(df.groupby('region')['price'].max())\n",
        "sold_min = dict(df.groupby('region')['units_sold'].min()) \n",
        "sold_max = dict(df.groupby('region')['units_sold'].max())   \n",
        "\n",
        "\n",
        "\n",
        "def solve_MIQP(x):\n",
        "    B = x\n",
        "    \n",
        "    # Initialize Model\n",
        "    m = gp.Model(\"Avocado_Price_Allocation\")\n",
        "\n",
        "    # Variables. Adjust the bounds here \n",
        "    x = m.addVars(R,name=\"x\",lb=sold_min,ub=sold_max) \n",
        "    p = m.addVars(R,name=\"p\",lb=0, ub=2)   \n",
        "    s = m.addVars(R,name=\"s\",lb=0)  \n",
        "    w = m.addVars(R,name=\"w\",lb=0) \n",
        "    i = m.addVars(R,name=\"i\",vtype=GRB.BINARY) \n",
        "\n",
        "    # Predictor expression for demand\n",
        "    d = {r: (coef_dict['Intercept']+coef_dict['price']*p[r] + coef_dict['C(region)[T.%s]'%r] + coef_dict['year_index']*(year-2015) + coef_dict['peak']*peak_or_not) for r in R}\n",
        " \n",
        "    \n",
        "    # Set the objective\n",
        "    m.ModelSense = GRB.MAXIMIZE\n",
        "    m.setObjective(sum(p[r]*s[r] - c_waste*w[r] - c_transport[r]*x[r] for r in R)) \n",
        "\n",
        "    # Add the constraints \n",
        "    m.addConstrs((s[r] <= x[r] for r in R))\n",
        "    m.addConstrs((s[r] <= d[r] for r in R)) \n",
        "    m.addConstrs((x[r] == w[r]+s[r] for r in R))\n",
        "    m.addConstr(sum(x[r] for r in R) == B)\n",
        "\n",
        "    # Solve   \n",
        "    m.setParam('OutputFlag', 0)\n",
        "    m.Params.NonConvex = 2\n",
        "    m.update()\n",
        "    m.optimize() \n",
        "    if m.status == 4:\n",
        "        print('The problem is infeasible. Try changing the parameter values.')\n",
        "    else:\n",
        "        global solution, opt_revenue\n",
        "        solution = pd.DataFrame() \n",
        "        solution['Region'] = R\n",
        "        solution['Price'] = [p[r].X for r in R]\n",
        "        solution['Allocated'] = [round(x[r].X,8) for r in R]\n",
        "        solution['Sold'] = [round(s[r].X,8) for r in R]\n",
        "        solution['Wasted'] = [round(w[r].X,8) for r in R]  \n",
        "        solution['Demand'] = [(coef_dict['Intercept']+coef_dict['price']*p[r].X + coef_dict['C(region)[T.%s]'%r] + coef_dict['year_index']*(year-2015) + coef_dict['peak']*peak_or_not) for r in R]\n",
        "\n",
        "        opt_revenue = m.ObjVal\n",
        "        if display_figures:\n",
        "            print(\"\\n Net revenue: $%f million\"%opt_revenue)\n",
        "            print(\"\\nThe optimal solution is as follows. Price per avocado in dollars. Allocated avocados, wasted avocados, and predicted demand in millions.\\n\")\n",
        "            print(solution)\n",
        "            \n",
        "            print(\"\\n Scatter plot of price vs number of avocados sold (millions) for the eight regions:\")\n",
        "            fig, ax = plt.subplots(1,1) \n",
        "            plot_sol = sns.scatterplot(data=solution,x='Price',y='Sold',hue='Region',s=100)\n",
        "            plot_waste = sns.scatterplot(data=solution,x='Price',y='Wasted',marker='x',hue='Region',s=100,legend = False)\n",
        "\n",
        "            plot_sol.legend(loc='center left', bbox_to_anchor=(1.25, 0.5), ncol=1)\n",
        "            plot_waste.legend(loc='center left', bbox_to_anchor=(1.25, 0.5), ncol=1)\n",
        "            plt.ylim(0, 5)\n",
        "            plt.xlim(1, 2.2)\n",
        "            ax.set_xlabel('Price per avocado ($)')\n",
        "            ax.set_ylabel('Number of avocados sold (millions)')\n",
        "            plt.show() \n",
        "            print(\"The circles represent sales quantity and the cross markers represent the wasted quantity.\")\n",
        "            \n",
        "            \n",
        "        return m.ObjVal, solution\n",
        "        \n",
        "        \n",
        "display_figures = 1\n",
        "print(\"Select a value for the available inventory (B) (in millions):\\n\")\n",
        "interact(solve_MIQP, x=(15,40,1))\n",
        "\n"
      ]
    },
    {
      "cell_type": "markdown",
      "id": "d05d06ab",
      "metadata": {
        "id": "d05d06ab"
      },
      "source": [
        "**Observations**:\n",
        "- When the supply is highly constrained, i.e., for a very small B, the model sets high prices => demand is low => allocation satisfies the demand exactly\n",
        "- With increasing supply => the prices go down => demand goes up => the allocation can continue to satisfy demand\n",
        "- With a very high supply, the wasteage starts going up\n",
        " "
      ]
    },
    {
      "cell_type": "markdown",
      "id": "749247cc",
      "metadata": {
        "id": "749247cc"
      },
      "source": [
        "## Compare Optimal Versus Actual Net Revenue"
      ]
    },
    {
      "cell_type": "markdown",
      "id": "92429363",
      "metadata": {
        "id": "92429363"
      },
      "source": [
        "Finally, we can run the optimization model for each week in a year and compare the optimal predicted revenue with the actual weekly revenue.\n",
        "Let us assume that there were no wastage costs in the actual weekly number since this information is unknown. "
      ]
    },
    {
      "cell_type": "code",
      "execution_count": 39,
      "id": "96ba33e0",
      "metadata": {
        "id": "96ba33e0",
        "outputId": "3a6cd80e-aeb3-4937-c172-901a045096d2",
        "scrolled": true
      },
      "outputs": [
        {
          "data": {
            "image/png": "[encoded data removed]",
            "text/plain": [
              "<Figure size 640x480 with 1 Axes>"
            ]
          },
          "metadata": {},
          "output_type": "display_data"
        },
        {
          "name": "stdout",
          "output_type": "stream",
          "text": [
            "For the average peak season week in 2021, the optimal solution yields 35.288636 % more net revenue than the actual supply chain.\n"
          ]
        }
      ],
      "source": [
        "# Create a subset of data for the given year and season\n",
        "df_subset = df[(df['year']==year) & (df['peak']==peak_or_not)]\n",
        "df_subset['price_minus_transport'] = df_subset['price'] - df_subset['region'].map(c_transport) \n",
        "dates = sorted(list(set(df_subset.date))) \n",
        "\n",
        "# Run the optimizer for each week\n",
        "actual, optimal, display_figures = [], [], 0\n",
        "for date in dates: \n",
        "    df_date = df_subset[df_subset['date']==date] \n",
        "    weekly_sold = (df_date['units_sold']).values.sum()  \n",
        "    optimal.append(solve_MIQP(weekly_sold)[0]) \n",
        "    \n",
        "    actual_weekly_revenue = (df_date['units_sold']*(df_date['price_minus_transport'])).values.sum() \n",
        "    actual.append(actual_weekly_revenue) \n",
        "\n",
        "# Plot the two scatter plots\n",
        "fig_comparison, ax_comparison = plt.subplots(1,1) \n",
        "actual_plot = plt.scatter(dates, actual)\n",
        "optimal_plot = plt.scatter(dates, optimal)\n",
        "plt.legend((optimal_plot,actual_plot),('Optimal weekly net revenue','Actual weekly net revenue'),loc='center left', bbox_to_anchor=(1.25, 0.5), ncol=1)\n",
        "x_ticks_labels = list(dict.fromkeys([date.strftime(\"%B\") for date in  dates])) \n",
        "ax_comparison.set_xticklabels(x_ticks_labels, rotation=20, fontsize=12)\n",
        "ax_comparison.set_xlabel('Date')\n",
        "ax_comparison.set_ylabel('Net revenue in $million')\n",
        "\n",
        "plt.show()\n",
        "\n",
        "difference = [(i - j)/j for i, j in zip(optimal, actual)]\n",
        "print(\"For the average peak season week in %i, the optimal solution yields %f %% more net revenue than the actual supply chain.\"%(year,100*sum(difference)/len(difference)))\n"
      ]
    },
    {
      "cell_type": "markdown",
      "id": "f5c053f3",
      "metadata": {
        "id": "f5c053f3"
      },
      "source": [
        "Now, we can compare the price and sales between the optimal solution and actual data for each week. Select a week using the interactive tool and see the difference."
      ]
    },
    {
      "cell_type": "code",
      "execution_count": 40,
      "id": "aaf20e93",
      "metadata": {
        "colab": {
          "referenced_widgets": [
            "a92a32890a8a4dc395f983c8f21eeabd"
          ]
        },
        "id": "aaf20e93",
        "outputId": "15de21aa-8991-4d70-d520-ca318762e6da"
      },
      "outputs": [
        {
          "name": "stdout",
          "output_type": "stream",
          "text": [
            "Select a value for the available inventory (B) (in millions):\n",
            "\n"
          ]
        },
        {
          "data": {
            "application/vnd.jupyter.widget-view+json": {
              "model_id": "aeb0bbeacd484da8996f88d79575437a",
              "version_major": 2,
              "version_minor": 0
            },
            "text/plain": [
              "interactive(children=(Dropdown(description='x', options=(Timestamp('2021-02-07 00:00:00'), Timestamp('2021-02-…"
            ]
          },
          "metadata": {},
          "output_type": "display_data"
        },
        {
          "data": {
            "text/plain": [
              "<function __main__.compare_with_actual(x)>"
            ]
          },
          "execution_count": 40,
          "metadata": {},
          "output_type": "execute_result"
        }
      ],
      "source": [
        "def compare_with_actual(x):\n",
        "    df_date = df_subset[df_subset['date']==x]\n",
        "    weekly_sold = (df_date['units_sold']).values.sum()  \n",
        "    print(weekly_sold)\n",
        "    opt_revenue, opt_solution = solve_MIQP(weekly_sold) \n",
        "\n",
        "    df_comparison = df_date.merge(opt_solution, left_on='region', right_on='Region')\n",
        "\n",
        "    df_comparison = df_comparison[['Region','price','Price','units_sold','Sold']]\n",
        "    df_comparison = df_comparison.rename({'price': 'Actual price', 'Price': 'Optimal price','units_sold': 'Actual sold', 'Sold': 'Optimal sold'}, axis=1)\n",
        "    print(df_comparison.sort_values(by='Region').reset_index(drop=True))\n",
        "\n",
        "display_figures = 0\n",
        "print(\"Select a value for the available inventory (B) (in millions):\\n\")\n",
        "interact(compare_with_actual, x=dates)\n"
      ]
    },
    {
      "cell_type": "markdown",
      "id": "8d07d2fd",
      "metadata": {
        "id": "8d07d2fd"
      },
      "source": [
        "Notice that for certain weeks and certain regions, the optimizer sets a higher price than the actual price if it foresees that even the dip in demand is worth it. In certain other cases, a lower price is preferred. Overall, the optimal solution rakes in close to 35% more net revenue than the actual case.\n",
        "This analysis demonstrates that the optimal pricing and supply of avocados could improve the efficiency of the avocado supply chain.\n",
        "\n",
        "With the right optimization tools, every day could be game day."
      ]
    },
    {
      "cell_type": "markdown",
      "id": "e0888fb6",
      "metadata": {
        "id": "e0888fb6"
      },
      "source": [
        "Copyright © 2022 Gurobi Optimization, LLC"
      ]
    }
  ],
  "metadata": {
    "colab": {
      "provenance": []
    },
    "kernelspec": {
      "display_name": "Python 3 (ipykernel)",
      "language": "python",
      "name": "python3"
    },
    "language_info": {
      "codemirror_mode": {
        "name": "ipython",
        "version": 3
      },
      "file_extension": ".py",
      "mimetype": "text/x-python",
      "name": "python",
      "nbconvert_exporter": "python",
      "pygments_lexer": "ipython3",
      "version": "3.9.13"
    }
  },
  "nbformat": 4,
  "nbformat_minor": 5
}
